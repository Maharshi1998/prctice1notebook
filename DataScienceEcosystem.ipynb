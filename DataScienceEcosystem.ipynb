{
 "cells": [
  {
   "cell_type": "markdown",
   "id": "8d4a2d5e",
   "metadata": {},
   "source": [
    "# Exploring Data Science\n"
   ]
  },
  {
   "cell_type": "markdown",
   "id": "ed8fbc37",
   "metadata": {},
   "source": [
    "## Introduction\n",
    "\n",
    "Welcome to this data science exploration notebook! In this notebook, we will delve into various aspects of data science, including programming languages, essential libraries, and common tools used in the field.\n",
    "\n",
    "Feel free to follow along as we navigate through the fascinating world of data science and its key components.\n"
   ]
  },
  {
   "cell_type": "markdown",
   "id": "07aa9b7c",
   "metadata": {},
   "source": [
    "## Data Science Languages\n",
    "\n",
    "- **Python**\n",
    "- **R**\n",
    "- **SQL**\n"
   ]
  },
  {
   "cell_type": "markdown",
   "id": "7c0b9ad6",
   "metadata": {},
   "source": [
    "Create a markdown cell to list data science libraries"
   ]
  },
  {
   "cell_type": "markdown",
   "id": "7686ba61",
   "metadata": {},
   "source": [
    "## Data Science Tools Table\n",
    "\n",
    "| Tool                | Description                           |\n",
    "|---------------------|---------------------------------------|\n",
    "| Jupyter Notebooks   | Interactive computing environment     |\n",
    "| VS Code             | Integrated development environment    |\n",
    "| Git                 | Version control system                |\n",
    "| Docker              | Containerization platform             |\n",
    "| Tableau             | Data visualization tool               |\n"
   ]
  },
  {
   "cell_type": "markdown",
   "id": "90bb8c4c",
   "metadata": {},
   "source": [
    "## Arithmetic Expression Examples\n",
    "\n",
    "In this section, we'll explore some basic arithmetic expressions to demonstrate mathematical operations using various data science languages. Whether it's Python, R, or another language, understanding how to perform arithmetic operations is fundamental to data science computations.\n",
    "\n",
    "Let's dive into some examples!\n"
   ]
  },
  {
   "cell_type": "code",
   "execution_count": 2,
   "id": "f20ffe66",
   "metadata": {},
   "outputs": [
    {
     "name": "stdout",
     "output_type": "stream",
     "text": [
      "Multiplication Result: 40\n",
      "Addition Result: 13\n"
     ]
    }
   ],
   "source": [
    "# Multiply\n",
    "result_multiply = 5 * 8\n",
    "print(f\"Multiplication Result: {result_multiply}\")\n",
    "\n",
    "# Add\n",
    "result_addition = 10 + 3\n",
    "print(f\"Addition Result: {result_addition}\")\n"
   ]
  },
  {
   "cell_type": "code",
   "execution_count": 3,
   "id": "2397e568",
   "metadata": {},
   "outputs": [
    {
     "name": "stdout",
     "output_type": "stream",
     "text": [
      "120 minutes is equal to 2.0 hours\n"
     ]
    }
   ],
   "source": [
    "# Conversion of Minutes to Hours\n",
    "minutes = 120\n",
    "\n",
    "# Calculate hours\n",
    "hours = minutes / 60\n",
    "\n",
    "# Display the result\n",
    "print(f\"{minutes} minutes is equal to {hours} hours\")\n"
   ]
  },
  {
   "cell_type": "markdown",
   "id": "0f778b83",
   "metadata": {},
   "source": [
    "## Objectives\n",
    "\n",
    "In this notebook, we aim to achieve the following objectives:\n",
    "\n",
    "1. Explore and list prominent data science languages.\n",
    "2. Identify and discuss key data science libraries used in various languages.\n",
    "3. Introduce and highlight essential data science tools.\n",
    "4. Provide examples of basic arithmetic expressions using different programming languages.\n",
    "5. Demonstrate a practical application by converting minutes to hours.\n",
    "6. Share insights into the structure and content of the notebook.\n",
    "\n",
    "Feel free to follow along as we work towards achieving these objectives in our exploration of data science concepts.\n"
   ]
  },
  {
   "cell_type": "markdown",
   "id": "84784142",
   "metadata": {},
   "source": [
    "## Author\n",
    "\n",
    "This notebook was created by Mahrshi mehta.\n"
   ]
  },
  {
   "cell_type": "code",
   "execution_count": null,
   "id": "61112084",
   "metadata": {},
   "outputs": [],
   "source": []
  }
 ],
 "metadata": {
  "kernelspec": {
   "display_name": "Python 3 (ipykernel)",
   "language": "python",
   "name": "python3"
  },
  "language_info": {
   "codemirror_mode": {
    "name": "ipython",
    "version": 3
   },
   "file_extension": ".py",
   "mimetype": "text/x-python",
   "name": "python",
   "nbconvert_exporter": "python",
   "pygments_lexer": "ipython3",
   "version": "3.11.4"
  }
 },
 "nbformat": 4,
 "nbformat_minor": 5
}
